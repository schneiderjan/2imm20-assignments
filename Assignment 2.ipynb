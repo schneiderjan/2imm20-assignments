{
 "cells": [
  {
   "cell_type": "markdown",
   "metadata": {
    "slideshow": {
     "slide_type": "slide"
    }
   },
   "source": [
    "## Foundations of Data Mining: Assignment 2\n",
    "\n",
    "Please complete all assignments in this notebook. You should submit this notebook, as well as a PDF version (See File > Download as)."
   ]
  },
  {
   "cell_type": "code",
   "execution_count": null,
   "metadata": {
    "collapsed": true
   },
   "outputs": [],
   "source": [
    "# Please fill in your names here\n",
    "NAME_STUDENT_1 = \"Georgiana Manolache\"\n",
    "NAME_STUDENT_2 = \"Jan-Niklas Schneider\""
   ]
  },
  {
   "cell_type": "code",
   "execution_count": null,
   "metadata": {
    "collapsed": true,
    "slideshow": {
     "slide_type": "skip"
    }
   },
   "outputs": [],
   "source": [
    "%matplotlib inline\n",
    "from preamble import *\n",
    "plt.rcParams['savefig.dpi'] = 100 # This controls the size of your figures\n",
    "# Comment out and restart notebook if you only want the last output of each cell.\n",
    "InteractiveShell.ast_node_interactivity = \"all\" \n",
    "HTML('''<style>html, body{overflow: visible !important} .CodeMirror{min-width:105% !important;} .rise-enabled .CodeMirror, .rise-enabled .output_subarea{font-size:140%; line-height:1.2; overflow: visible;} .output_subarea pre{width:110%}</style>''') # For slides"
   ]
  },
  {
   "cell_type": "markdown",
   "metadata": {},
   "source": [
    "## Support Vector Bananas (4 points (2+2))\n",
    "We will first explore SVM kernels and hyperparameters on an artificial dataset representing multiple banana shapes. "
   ]
  },
  {
   "cell_type": "code",
   "execution_count": null,
   "metadata": {
    "collapsed": true
   },
   "outputs": [],
   "source": [
    "from sklearn.model_selection import *\n",
    "bananas = oml.datasets.get_dataset(1460) # Download banana data\n",
    "X, y = bananas.get_data(target=bananas.default_target_attribute);\n",
    "X_train, X_test, y_train, y_test = train_test_split(X, y, random_state=0, test_size=1/4)"
   ]
  },
  {
   "cell_type": "markdown",
   "metadata": {},
   "source": [
    "1 . Evaluate how well an SVM classifier can fit the data. \n",
    "\n",
    "- Use a linear, polynomial and radial basis function (RBF) kernel, using their default hyperparameters. Evaluate the performance of each kernel using the test set and AUC. Which one works best? \n",
    "- Visualize the results using the visualization code also used in class (under mglearn/plot_svm.py > plot_svm_kernels). Also show the AUC score and the number of support vectors. Explain intuitively how well the data is fitted, why the kernel is (not) able to fit the data, whether it is under- or overfitting, etc."
   ]
  },
  {
   "cell_type": "code",
   "execution_count": null,
   "metadata": {
    "collapsed": true
   },
   "outputs": [],
   "source": [
    "from sklearn import svm\n",
    "from sklearn.metrics import roc_auc_score\n",
    "\n",
    "# fit the model\n",
    "for kernel in ('linear', 'poly', 'rbf'):\n",
    "    clf = svm.SVC(kernel=kernel)\n",
    "    clf.fit(X_train, y_train)\n",
    "    \n",
    "    print(\"Test set accuracy: {:.3f}\".format(clf.score(X_test, y_test))) \n",
    "    print(\"Test set AUC: {:.3f}\".format(roc_auc_score(y_test, clf.decision_function(X_test))))     \n",
    "    print(clf.n_support_) \n"
   ]
  },
  {
   "cell_type": "markdown",
   "metadata": {},
   "source": [
    "Radial basis function works (RBF) best, with AUC score of 0.97. In the absence of expert knowledge, the RBF kernel makes a good default kernel. "
   ]
  },
  {
   "cell_type": "code",
   "execution_count": null,
   "metadata": {
    "collapsed": true
   },
   "outputs": [],
   "source": [
    "import numpy as np\n",
    "import matplotlib.pyplot as plt\n",
    "from sklearn import svm\n",
    "\n",
    "# figure number\n",
    "fignum = 1\n",
    "\n",
    "# fit the model\n",
    "for kernel in ('linear', 'poly', 'rbf'):\n",
    "    clf = svm.SVC(kernel=kernel)\n",
    "    fit = clf.fit(X_train, y_train)\n",
    "    \n",
    "    # plot the line, the points, and the nearest vectors to the plane\n",
    "    fig=plt.figure(fignum, figsize=(8, 6))\n",
    "    subt=plt.suptitle('kernel = %s' % kernel)\n",
    "\n",
    "    sc1=plt.scatter(clf.support_vectors_[:, 0], clf.support_vectors_[:, 1],\n",
    "                s=20, edgecolors='k', c='w', zorder=10)\n",
    "    sc2=plt.scatter(X_train[:, 0], X_train[:, 1], c=y_train, zorder=10, cmap=plt.cm.bwr)\n",
    "\n",
    "    for i, coef in enumerate(clf.dual_coef_[0]):\n",
    "        ann=plt.annotate(\"%0.2f\" % (coef), (clf.support_vectors_[i, 0]+0.15,clf.support_vectors_[i, 1]), fontsize=8, zorder=11)\n",
    "\n",
    "    tigh=plt.axis('tight')\n",
    "    x_min = -3\n",
    "    x_max = 3\n",
    "    y_min = -3\n",
    "    y_max = 3\n",
    "\n",
    "    XX, YY = np.mgrid[x_min:x_max:200j, y_min:y_max:200j]\n",
    "    Z = clf.decision_function(np.c_[XX.ravel(), YY.ravel()])\n",
    "\n",
    "    # Put the result into a color plot\n",
    "    Z = Z.reshape(XX.shape)\n",
    "    pl2=plt.figure(fignum, figsize=(10, 5))\n",
    "    #plt.pcolormesh(XX, YY, Z > 0, cmap=plt.cm.bwr, alpha=0.1)\n",
    "    cont=plt.contour(XX, YY, Z, colors=['k', 'k', 'k'], linestyles=['--', '-', '--'],\n",
    "                levels=[-.5, 0, .5])\n",
    "\n",
    "    xlim=plt.xlim(x_min, x_max)\n",
    "    ylim=plt.ylim(y_min, y_max)\n",
    "\n",
    "    xtick=plt.xticks(())\n",
    "    ytick=plt.yticks(())\n",
    "    fignum = fignum + 1\n",
    "    \n",
    "    plt.show()\n"
   ]
  },
  {
   "cell_type": "code",
   "execution_count": null,
   "metadata": {
    "collapsed": true
   },
   "outputs": [],
   "source": []
  },
  {
   "cell_type": "markdown",
   "metadata": {},
   "source": [
    "2 . Pick the RBF kernel and optimize the two most important hyperparameters (the $C$ parameter and the kernel width $\\gamma$). \n",
    "\n",
    "- First, optimize manually using 3 values for each (a very small, default, and very large value). For each of the 9 combinations, create the same RBF plot as before, report the number of support vectors, and the AUC performance. Explain the performance results. When are you over/underfitting?\n",
    "- Next, optimize the hyperparameters using a grid search and 10-fold cross validation. Show a heatmap of the results snd report the optimal hyperparameter values.\n",
    "    - Hint: values for C and $\\gamma$ are typically in [$2^{-15}..2^{15}$] on a log scale. Use at least 10 values for each."
   ]
  },
  {
   "cell_type": "code",
   "execution_count": null,
   "metadata": {
    "collapsed": true
   },
   "outputs": [],
   "source": [
    "import numpy as np\n",
    "import matplotlib.pyplot as plt\n",
    "from sklearn import svm\n",
    "\n",
    "# figure number\n",
    "fignum = 1\n",
    "\n",
    "score=list()\n",
    "nrv=list()\n",
    "Cs=list()\n",
    "gammas=list()\n",
    "plots=list()\n",
    "\n",
    "# fit the model\n",
    "for C in (0.1,1.0,4.5):\n",
    "    for gamma in (0.01,1/X.shape[0],4.5):  \n",
    "\n",
    "        clf = svm.SVC(kernel='rbf', C=C, gamma=gamma)\n",
    "        fit = clf.fit(X_train, y_train)\n",
    "\n",
    "        print(\"C = {0}, Gamma = {1}\".format(C, gamma))\n",
    "        print(\"Test set accuracy: {:.3f}\".format(clf.score(X_test, y_test))) \n",
    "        print(\"Test set AUC: {:.3f}\".format(roc_auc_score(y_test, clf.decision_function(X_test))))     \n",
    "        print(\"Number of supporting vectors: {0}\".format(clf.n_support_)) \n",
    "        \n",
    "        score.append(roc_auc_score(y_test, clf.decision_function(X_test)))\n",
    "        nrv.append(clf.n_support_)\n",
    "        Cs.append(C)\n",
    "        gammas.append(gamma)\n",
    "\n",
    "        # Plot the line, the points, and the nearest vectors to the plane\n",
    "        fig=plt.figure(fignum, figsize=(8, 6))\n",
    "        subt=plt.suptitle('kernel = %s' % kernel)\n",
    "\n",
    "        sc1=plt.scatter(clf.support_vectors_[:, 0], clf.support_vectors_[:, 1],\n",
    "                    s=20, edgecolors='k', c='w', zorder=10)\n",
    "        sc2=plt.scatter(X_train[:, 0], X_train[:, 1], c=y_train, zorder=10, cmap=plt.cm.bwr)\n",
    "\n",
    "        for i, coef in enumerate(clf.dual_coef_[0]):\n",
    "            ann=plt.annotate(\"%0.2f\" % (coef), (clf.support_vectors_[i, 0]+0.15,clf.support_vectors_[i, 1]), fontsize=8, zorder=11)\n",
    "\n",
    "        tigh=plt.axis('tight')\n",
    "        x_min = -3\n",
    "        x_max = 3\n",
    "        y_min = -3\n",
    "        y_max = 3\n",
    "\n",
    "        XX, YY = np.mgrid[x_min:x_max:200j, y_min:y_max:200j]\n",
    "        Z = clf.decision_function(np.c_[XX.ravel(), YY.ravel()])\n",
    "\n",
    "        # Put the result into a color plot\n",
    "        Z = Z.reshape(XX.shape)\n",
    "        pl2=plt.figure(fignum, figsize=(10, 5))\n",
    "        #plt.pcolormesh(XX, YY, Z > 0, cmap=plt.cm.bwr, alpha=0.1)\n",
    "        cont=plt.contour(XX, YY, Z, colors=['k', 'k', 'k'], linestyles=['--', '-', '--'],\n",
    "                    levels=[-.5, 0, .5])\n",
    "\n",
    "        xlim=plt.xlim(x_min, x_max)\n",
    "        ylim=plt.ylim(y_min, y_max)\n",
    "\n",
    "        xtick=plt.xticks(())\n",
    "        ytick=plt.yticks(())\n",
    "        fignum = fignum + 1\n",
    "        \n",
    "        \n",
    "        plots.append(plt)\n",
    "        plt.show() "
   ]
  },
  {
   "cell_type": "markdown",
   "metadata": {},
   "source": [
    "Explain underfitting/overfitting"
   ]
  },
  {
   "cell_type": "code",
   "execution_count": null,
   "metadata": {
    "collapsed": true
   },
   "outputs": [],
   "source": [
    "#Cross validation\n",
    "import numpy as np\n",
    "import pandas as pd\n",
    "from sklearn.model_selection import GridSearchCV \n",
    "from sklearn.svm import SVC\n",
    "\n",
    "param = 0.1\n",
    "param_grid={}\n",
    "params=[]\n",
    "\n",
    "# Create params\n",
    "for i in range(0, 10):    \n",
    "    params.insert(i,param)\n",
    "    param = param + 0.045\n",
    "\n",
    "param_grid = {'kernel': ['rbf'],\n",
    "              'C': params,\n",
    "              'gamma': params,\n",
    "              }\n",
    "#print(\"Parameter grid:\\n{}\".format(param_grid))\n",
    "\n",
    "# grid search\n",
    "grid_search = GridSearchCV(SVC(), param_grid, cv=10)\n",
    "grid_search.fit(X_train, y_train)\n",
    "\n",
    "# show info \n",
    "print(\"Test set score: {:.2f}\".format(grid_search.score(X_test, y_test)))\n",
    "print(\"Best parameters: {}\".format(grid_search.best_params_))\n",
    "print(\"Best cross-validation score: {:.2f}\".format(grid_search.best_score_))\n",
    "print(\"Best estimator:\\n{}\".format(grid_search.best_estimator_))\n",
    "\n",
    "# convert to Dataframe\n",
    "results = pd.DataFrame(grid_search.cv_results_)\n",
    "# show the first 5 rows\n",
    "display(results.head())\n",
    "\n",
    "scores = np.array(results.mean_test_score).reshape(10, 10)\n",
    "# plot the mean cross-validation scores\n",
    "mglearn.tools.heatmap(scores, xlabel='gamma', xticklabels=param_grid['gamma'],\n",
    "                      ylabel='C', yticklabels=param_grid['C'], cmap=\"viridis\");\n"
   ]
  },
  {
   "cell_type": "markdown",
   "metadata": {
    "collapsed": true,
    "slideshow": {
     "slide_type": "slide"
    }
   },
   "source": [
    "## Building Kernels (4 points (0.5+0.5+1+2))\n",
    "\n",
    "Consider the artificial dataset given below. It represents a sine wave with added noise."
   ]
  },
  {
   "cell_type": "markdown",
   "metadata": {},
   "source": [
    "1. Fit an SVM Regressor with the default RBF kernel, and plot the predictions on all data points in [0, 40]. \n",
    "\n",
    "    - Does it fit the data well? Does it extrapolate well (in the range [30,40])? Explain your findings. \n",
    "    - Can you get better results by tweaking the kernel or the other SVM parameters?\n",
    "    \n",
    "2. Implement your own linear kernel. This is a function that takes 2 vectors (arrays) and returns the dot product:\n",
    "\n",
    "      $$k(\\mathbf{x}_i,\\,\\mathbf{x}_j) = \\mathbf{x}_i \\cdot \\mathbf{x}_j$$\n",
    "    - Build an SVM regressor using that kernel by passing your kernel function as the `kernel` hyperparameter. \n",
    "    - Fit it on the sine data and plot the predictions on all data points. Interpret the results.\n",
    "    \n",
    "3. Since this data is periodic, it makes sense to implement a periodic kernel instead. \n",
    "\n",
    "    - This is the Exponential Sine Squared kernel, with length scale $\\Gamma$ and periodicity $P$:\n",
    "  $$k(\\mathbf{x}_i,\\,\\mathbf{x}_j) = \\exp \\left( -\\Gamma\\,\\sin^2\\left[\\frac{\\pi}{P}\\,\\left|\\left|x_i-x_j\\right|\\right|\\right]\\right)$$\n",
    "    - Implement it, using the defaults $\\Gamma=1$, periodicity $P=1$, and Euclidean distance.\n",
    "    - Train an SVM regressor with it, fit in on the same data and plot the result. Interpret the outcome. \n",
    "    - Think about what $\\Gamma$ and $P$ represent. Can you improve the fit by manually adjusting them? Explain your findings.\n",
    "    - Optimize $\\Gamma$ and periodicity $P$ (using `true_y` as the ground truth). Use a grid search or random search, $\\Gamma \\in [0,1]$, $P \\in [1,100]$, try at least 5 values for each."
   ]
  },
  {
   "cell_type": "code",
   "execution_count": null,
   "metadata": {
    "collapsed": true
   },
   "outputs": [],
   "source": [
    "# Generate sample data\n",
    "rng = np.random.RandomState(0) # Random seed, for reproducibility \n",
    "X = 30 * rng.rand(200, 1)\n",
    "y = np.sin(X).ravel() \n",
    "y[::2] += rng.normal(scale = 1.0, size = X.shape[0] // 2) # adds noise\n",
    "\n",
    "X_plot = np.linspace(0, 40, 10000)[:, None] # A larger range to evaluate on\n",
    "true_y = np.sin(X_plot) # and the 'true' target function\n",
    "\n",
    "plt.figure(figsize=(10, 5))\n",
    "plt.scatter(X, y, c='k', label='Data')\n",
    "plt.plot(X_plot, true_y);"
   ]
  },
  {
   "cell_type": "markdown",
   "metadata": {},
   "source": [
    "4 . We now make the problem a bit more challenging by adding an upward trend:\n",
    "\n",
    "- Fit the same SVM using the optimal parameters from the previous subtask and plot the results. Do they still work? Explain what you see.\n",
    "- Fit a Gaussian process (GP) using the kernels given below. First use the singular ExpSineSquared kernel (the implementation provided by sklearn this time), then build a new kernel consisting of the 3 components given below. Use both to predict all points for the \"rising noisy sine\" data and plot the results as usual. Interpret the results.\n",
    "    - For the GP, it may help to use `normalize_y=True` since the y-values are not around 0. Setting `alpha=0.1` may help with possible numerical issues, otherwise keep it at 0.\n",
    "- Also plot the _uncertainty interval_ around the predictions. You can ask the GP to return the standard deviation during prediction with the `return_std=True` hyperparameter. Plot a band 2 standard deviations above and below the prediction. You can use MatPlotLib's `fill_between` as shown in class.\n",
    "    - You can combine the 3 models in one plot for easy comparison.\n",
    "- We've provided reasonable values for the kernel hyperparameters above. Can you optimize them further to get an even better fit? Think about what the hyperparameters do and optimize the ones you think are most worth tuning."
   ]
  },
  {
   "cell_type": "code",
   "execution_count": null,
   "metadata": {
    "collapsed": true
   },
   "outputs": [],
   "source": [
    "# Generate sample data with added trend\n",
    "rng = np.random.RandomState(0)\n",
    "X = 30 * rng.rand(200, 1)\n",
    "y = X.ravel()/2 + np.sin(X).ravel()\n",
    "y[::2] += rng.normal(scale = 1.0, size = X.shape[0] // 2)  # add noise\n",
    "\n",
    "X_plot = np.linspace(0, 40, 10000)[:, None]\n",
    "true_y = X_plot/2 + np.sin(X_plot)\n",
    "\n",
    "plt.figure(figsize=(10, 5))\n",
    "plt.scatter(X, y, c='k', label='Data')\n",
    "plt.plot(X_plot, true_y);"
   ]
  },
  {
   "cell_type": "code",
   "execution_count": null,
   "metadata": {
    "collapsed": true
   },
   "outputs": [],
   "source": [
    "from sklearn.gaussian_process.kernels import WhiteKernel, ExpSineSquared, RBF\n",
    "\n",
    "# Replace `length_scale` and `periodicity` with the values found in the previous part.\n",
    "kernel_simple = ExpSineSquared(length_scale=1, periodicity=1) # periodic component\n",
    "\n",
    "k1 = 4300 * RBF(length_scale=70.0)  # long term smooth rising trend\n",
    "k2 = 6 * RBF(length_scale=90.0) * ExpSineSquared(length_scale=1.3, periodicity=1.0)  # periodic component\n",
    "k3 = 0.03 * RBF(length_scale=0.134) + WhiteKernel(noise_level=0.035)  # noise terms"
   ]
  },
  {
   "cell_type": "markdown",
   "metadata": {
    "slideshow": {
     "slide_type": "slide"
    }
   },
   "source": [
    "## Bayesian updates (3 points (2+1))\n",
    "\n",
    "We consider real data about solar radiation measured by a weather balloon:\n",
    "https://www.openml.org/d/512. We'll use only the raw data (at least the first 1000 points) and try to learn the (very noisy) trend. "
   ]
  },
  {
   "cell_type": "markdown",
   "metadata": {
    "slideshow": {
     "slide_type": "subslide"
    }
   },
   "source": [
    "1. Train a Gaussian process on an increasing amount of samples of the training data. Use a simple RBF kernel:\n",
    "`RBF(10, (1e-2, 1e2))`\n",
    "\n",
    " - Start with 10 _random_ samples and plot the predictions (both the mean and the uncertainty interval) for both training and test data, as shown in class. Also compute $R^2$ on the training data.\n",
    " - Repeat and 10 more points, retrain and redraw. Do this a couple of times and interpret/explain what you see. \n",
    " \n",
    "2. Train the Gaussian on the full training set.\n",
    "\n",
    " - Plot the predictions (including the uncertainty interval) on the full dataset. Evaluate on the test set using $R^2$ \n",
    " - Interpret the results. Is the kernel right? Is the GP under/overfitting?\n",
    " - Try to improve the results by tuning the kernel. Do this either manually or using a small grid/random search."
   ]
  },
  {
   "cell_type": "code",
   "execution_count": 53,
   "metadata": {
    "slideshow": {
     "slide_type": "subslide"
    }
   },
   "outputs": [
    {
     "data": {
      "text/plain": [
       "<matplotlib.axes._subplots.AxesSubplot at 0x193a36635f8>"
      ]
     },
     "execution_count": 53,
     "metadata": {},
     "output_type": "execute_result"
    },
    {
     "data": {
      "application/pdf": "[encoded data removed]",
      "image/png": "[encoded data removed]",
      "text/plain": [
       "<matplotlib.figure.Figure at 0x193a36634a8>"
      ]
     },
     "metadata": {},
     "output_type": "display_data"
    }
   ],
   "source": [
    "# Get the data\n",
    "balloon_data = oml.datasets.get_dataset(512) # Download Balloon data\n",
    "X, y = balloon_data.get_data(target=balloon_data.default_target_attribute);\n",
    "\n",
    "train = X[:1000]\n",
    "test = X[1000:1500]\n",
    "X_train = np.array(list(range(1000)))[np.newaxis].T\n",
    "y_train = X[:1000].reshape(-1, 1)\n",
    "X_test = np.array(list(range(1000,1250)))[np.newaxis].T\n",
    "y_test = X[1000:1500].reshape(-1, 1)\n",
    "X_all = np.array(list(range(1500)))[np.newaxis].T\n",
    "\n",
    "pd.Series(X[:1500,0]).plot()"
   ]
  },
  {
   "cell_type": "code",
   "execution_count": 60,
   "metadata": {},
   "outputs": [
    {
     "ename": "ValueError",
     "evalue": "Found input variables with inconsistent numbers of samples: [250, 500]",
     "output_type": "error",
     "traceback": [
      "\u001b[1;31m---------------------------------------------------------------------------\u001b[0m",
      "\u001b[1;31mValueError\u001b[0m                                Traceback (most recent call last)",
      "\u001b[1;32m<ipython-input-60-cdbb0b0ac497>\u001b[0m in \u001b[0;36m<module>\u001b[1;34m()\u001b[0m\n\u001b[0;32m     20\u001b[0m \u001b[1;33m\u001b[0m\u001b[0m\n\u001b[0;32m     21\u001b[0m \u001b[1;31m# Fit to data using Maximum Likelihood Estimation of the parameters\u001b[0m\u001b[1;33m\u001b[0m\u001b[1;33m\u001b[0m\u001b[0m\n\u001b[1;32m---> 22\u001b[1;33m \u001b[0mgp\u001b[0m\u001b[1;33m.\u001b[0m\u001b[0mfit\u001b[0m\u001b[1;33m(\u001b[0m\u001b[0mX\u001b[0m\u001b[1;33m,\u001b[0m \u001b[0my\u001b[0m\u001b[1;33m)\u001b[0m\u001b[1;33m\u001b[0m\u001b[0m\n\u001b[0m\u001b[0;32m     23\u001b[0m \u001b[1;33m\u001b[0m\u001b[0m\n\u001b[0;32m     24\u001b[0m \u001b[1;31m# Make the prediction on the meshed x-axis (ask for MSE as well)\u001b[0m\u001b[1;33m\u001b[0m\u001b[1;33m\u001b[0m\u001b[0m\n",
      "\u001b[1;32m~\\AppData\\Local\\Continuum\\anaconda3\\lib\\site-packages\\sklearn\\gaussian_process\\gpr.py\u001b[0m in \u001b[0;36mfit\u001b[1;34m(self, X, y)\u001b[0m\n\u001b[0;32m    179\u001b[0m         \u001b[0mself\u001b[0m\u001b[1;33m.\u001b[0m\u001b[0m_rng\u001b[0m \u001b[1;33m=\u001b[0m \u001b[0mcheck_random_state\u001b[0m\u001b[1;33m(\u001b[0m\u001b[0mself\u001b[0m\u001b[1;33m.\u001b[0m\u001b[0mrandom_state\u001b[0m\u001b[1;33m)\u001b[0m\u001b[1;33m\u001b[0m\u001b[0m\n\u001b[0;32m    180\u001b[0m \u001b[1;33m\u001b[0m\u001b[0m\n\u001b[1;32m--> 181\u001b[1;33m         \u001b[0mX\u001b[0m\u001b[1;33m,\u001b[0m \u001b[0my\u001b[0m \u001b[1;33m=\u001b[0m \u001b[0mcheck_X_y\u001b[0m\u001b[1;33m(\u001b[0m\u001b[0mX\u001b[0m\u001b[1;33m,\u001b[0m \u001b[0my\u001b[0m\u001b[1;33m,\u001b[0m \u001b[0mmulti_output\u001b[0m\u001b[1;33m=\u001b[0m\u001b[1;32mTrue\u001b[0m\u001b[1;33m,\u001b[0m \u001b[0my_numeric\u001b[0m\u001b[1;33m=\u001b[0m\u001b[1;32mTrue\u001b[0m\u001b[1;33m)\u001b[0m\u001b[1;33m\u001b[0m\u001b[0m\n\u001b[0m\u001b[0;32m    182\u001b[0m \u001b[1;33m\u001b[0m\u001b[0m\n\u001b[0;32m    183\u001b[0m         \u001b[1;31m# Normalize target value\u001b[0m\u001b[1;33m\u001b[0m\u001b[1;33m\u001b[0m\u001b[0m\n",
      "\u001b[1;32m~\\AppData\\Local\\Continuum\\anaconda3\\lib\\site-packages\\sklearn\\utils\\validation.py\u001b[0m in \u001b[0;36mcheck_X_y\u001b[1;34m(X, y, accept_sparse, dtype, order, copy, force_all_finite, ensure_2d, allow_nd, multi_output, ensure_min_samples, ensure_min_features, y_numeric, warn_on_dtype, estimator)\u001b[0m\n\u001b[0;32m    581\u001b[0m         \u001b[0my\u001b[0m \u001b[1;33m=\u001b[0m \u001b[0my\u001b[0m\u001b[1;33m.\u001b[0m\u001b[0mastype\u001b[0m\u001b[1;33m(\u001b[0m\u001b[0mnp\u001b[0m\u001b[1;33m.\u001b[0m\u001b[0mfloat64\u001b[0m\u001b[1;33m)\u001b[0m\u001b[1;33m\u001b[0m\u001b[0m\n\u001b[0;32m    582\u001b[0m \u001b[1;33m\u001b[0m\u001b[0m\n\u001b[1;32m--> 583\u001b[1;33m     \u001b[0mcheck_consistent_length\u001b[0m\u001b[1;33m(\u001b[0m\u001b[0mX\u001b[0m\u001b[1;33m,\u001b[0m \u001b[0my\u001b[0m\u001b[1;33m)\u001b[0m\u001b[1;33m\u001b[0m\u001b[0m\n\u001b[0m\u001b[0;32m    584\u001b[0m \u001b[1;33m\u001b[0m\u001b[0m\n\u001b[0;32m    585\u001b[0m     \u001b[1;32mreturn\u001b[0m \u001b[0mX\u001b[0m\u001b[1;33m,\u001b[0m \u001b[0my\u001b[0m\u001b[1;33m\u001b[0m\u001b[0m\n",
      "\u001b[1;32m~\\AppData\\Local\\Continuum\\anaconda3\\lib\\site-packages\\sklearn\\utils\\validation.py\u001b[0m in \u001b[0;36mcheck_consistent_length\u001b[1;34m(*arrays)\u001b[0m\n\u001b[0;32m    202\u001b[0m     \u001b[1;32mif\u001b[0m \u001b[0mlen\u001b[0m\u001b[1;33m(\u001b[0m\u001b[0muniques\u001b[0m\u001b[1;33m)\u001b[0m \u001b[1;33m>\u001b[0m \u001b[1;36m1\u001b[0m\u001b[1;33m:\u001b[0m\u001b[1;33m\u001b[0m\u001b[0m\n\u001b[0;32m    203\u001b[0m         raise ValueError(\"Found input variables with inconsistent numbers of\"\n\u001b[1;32m--> 204\u001b[1;33m                          \" samples: %r\" % [int(l) for l in lengths])\n\u001b[0m\u001b[0;32m    205\u001b[0m \u001b[1;33m\u001b[0m\u001b[0m\n\u001b[0;32m    206\u001b[0m \u001b[1;33m\u001b[0m\u001b[0m\n",
      "\u001b[1;31mValueError\u001b[0m: Found input variables with inconsistent numbers of samples: [250, 500]"
     ]
    }
   ],
   "source": [
    "from sklearn.gaussian_process import GaussianProcessRegressor\n",
    "from sklearn.gaussian_process.kernels import RBF, ConstantKernel as C\n",
    "\n",
    "def f(x):\n",
    "    #\"\"\"The function to predict.\"\"\"\n",
    "    return x * np.sin(x)\n",
    "\n",
    "\n",
    "X = X_test\n",
    "\n",
    "# Observations\n",
    "y = y_test\n",
    "\n",
    "# Mesh the input space for evaluations of the real function, the prediction # its MSE\n",
    "x = np.atleast_2d(np.linspace(0, 10, 1000)).T\n",
    "\n",
    "# Instanciate a Gaussian Process model\n",
    "kernel = C(1.0, (1e-3, 1e3)) * RBF(10, (1e-2, 1e2))\n",
    "gp = GaussianProcessRegressor(kernel=kernel, n_restarts_optimizer=9)\n",
    "\n",
    "# Fit to data using Maximum Likelihood Estimation of the parameters\n",
    "gp.fit(X, y)\n",
    "\n",
    "# Make the prediction on the meshed x-axis (ask for MSE as well)\n",
    "y_pred, sigma = gp.predict(x, return_std=True)\n",
    "\n",
    "# Plot the function, the prediction and the 95% confidence interval based # the MSE\n",
    "fig = plt.figure()\n",
    "plt.plot(x, f(x), 'r:', label=u'$f(x) = x\\,\\sin(x)$')\n",
    "plt.plot(X, y, 'r.', markersize=10, label=u'Observations')\n",
    "plt.plot(x, y_pred, 'b-', label=u'Prediction')\n",
    "plt.fill(np.concatenate([x, x[::-1]]),\n",
    "np.concatenate([y_pred - 1.9600 * sigma,\n",
    "(y_pred + 1.9600 * sigma)[::-1]]),\n",
    "alpha=.5, fc='b', ec='None', label='95% confidence interval')\n",
    "plt.xlabel('$x$')\n",
    "plt.ylabel('$f(x)$')\n",
    "plt.ylim(-10, 20)\n",
    "plt.legend(loc='upper left')"
   ]
  },
  {
   "cell_type": "markdown",
   "metadata": {
    "slideshow": {
     "slide_type": "slide"
    }
   },
   "source": [
    "## A data mining challenge (4 points)"
   ]
  },
  {
   "cell_type": "markdown",
   "metadata": {},
   "source": [
    "The goal here is to use everything you have learned to build the best model for a given classification task. We will use two tasks hosted on OpenML, so you will all receive the same cross-validation splits, and your model will be evaluated on the server. The goal is to reasonably select algorithms and hyperparameter settings to obtain the best model. You can also do model selection, pipeline building, and parameter optimization as you have done before. Skeleton code is provided in the OpenML tutorial. You need to optimize the AUROC score (calculated using 10-fold cross0-validation).\n",
    "\n",
    "- Challenge 1: Detects accents in speech data.\n",
    "\n",
    "    - The OpenML Task ID is 167132: https://www.openml.org/t/167132\n",
    "    - The dataset description can be found here: https://www.openml.org/d/40910\n",
    "    - Leaderboard: https://www.openml.org/t/167132#!people\n",
    "    \n",
    "- Challenge 2: Image recognition (CIFAR-10 subsample).\n",
    "\n",
    "    - The OpenML Task ID is 167133: https://www.openml.org/t/167133\n",
    "    - The dataset description can be found here: https://www.openml.org/d/40926\n",
    "    - Leaderboard: https://www.openml.org/t/167133#!people\n",
    "    - Note that this is a high-dimensional dataset (and not so small). Think carefully about how to run experiments in the  time available.\n",
    "    \n",
    "- You are able to see the solutions of others (by clicking in the timeline or run list), so you can learn from prior experiments (what seems to work, how long does it take to train certain models, ...). Resubmission of the exact same solution is not possible.\n",
    "- You can share one account (one API key) per team. In case you use two, we take the one that performs best.\n",
    "- Document the different experiments that you ran in this notebook (running them can of course be done outside of the notebook). For each experiment, provide a description of how and why you chose the algorithms and parameters that you submitted. Reason about which experiments to try, don't just do an immense random search.\n",
    "- Points are rewarded as follows (independently for each task):\n",
    "\n",
    "    - 1 point for the breadth of experiments you ran (algorithms, pipelines, hyperparameter settings)\n",
    "    - 1 point for reasoning/insight and interpretation of the results\n",
    "    - 1 (bonus) point for every team who has uploaded the best solution thus far **on AUC** (who reaches the top of the leaderboard at any moment during the assignment)\n",
    "        - Exception: simply repeating top models with nearly identical hyperparameters. This will be checked on the timeline.\n",
    "        - Note: On the leaderboard page, the 'frontier' line is drawn, and your top ranking is also shown in the leaderboard.\n",
    "        \n",
    "Note: Report the AUC scores of your best models in your report as well. In case of issues with OpenML we will use the experiments and scores mentioned your report."
   ]
  },
  {
   "cell_type": "code",
   "execution_count": null,
   "metadata": {
    "collapsed": true
   },
   "outputs": [],
   "source": []
  }
 ],
 "metadata": {
  "anaconda-cloud": {},
  "celltoolbar": "Slideshow",
  "kernelspec": {
   "display_name": "Python 3",
   "language": "python",
   "name": "python3"
  },
  "language_info": {
   "codemirror_mode": {
    "name": "ipython",
    "version": 3
   },
   "file_extension": ".py",
   "mimetype": "text/x-python",
   "name": "python",
   "nbconvert_exporter": "python",
   "pygments_lexer": "ipython3",
   "version": "3.6.3"
  }
 },
 "nbformat": 4,
 "nbformat_minor": 2
}
